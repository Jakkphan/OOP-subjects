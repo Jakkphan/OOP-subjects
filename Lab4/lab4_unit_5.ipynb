{
 "cells": [
  {
   "cell_type": "code",
   "execution_count": null,
   "metadata": {},
   "outputs": [],
   "source": [
    "# Slide Unit 5 page 13, 14, 15,16, 18, 20\n",
    "# เปิดไฟล์ Slide Unit 5 เขียนโค้ดโปรแกรมหน้าที่ 13, 14, 15, 16, 18, 20\n",
    "\n",
    "# Page 13 Advace Example: Creating and Manipulating Lists\n",
    "\"\"\"\" Common Metthods: \n",
    "append(), extend(), insert()\n",
    "remove(), pop(), index()\n",
    "count(), sort(), reverse()\n",
    "\"\"\""
   ]
  },
  {
   "cell_type": "code",
   "execution_count": 2,
   "metadata": {},
   "outputs": [
    {
     "name": "stdout",
     "output_type": "stream",
     "text": [
      "Updated list: [2, 10, 4, 5, 6]\n"
     ]
    }
   ],
   "source": [
    "\"\"\"\" Page 13  | Advance Example : Creating and Manipulating Lists \"\"\"\n",
    "# Example 1: Creating and manipulating lists\n",
    "\n",
    "# Craeting a list of numbers\n",
    "numbers =[1,2,3,4,5]\n",
    "\n",
    "# Adding elements to the end of the list\n",
    "numbers.append(6)\n",
    "\n",
    "# Modifying an element at a specific index\n",
    "numbers[2] = 10\n",
    "\n",
    "# Removing an element by value\n",
    "numbers.remove(1)\n",
    "\n",
    "print(\"Updated list:\", numbers)"
   ]
  },
  {
   "cell_type": "code",
   "execution_count": 5,
   "metadata": {},
   "outputs": [
    {
     "name": "stdout",
     "output_type": "stream",
     "text": [
      "Squares: [1, 4, 9, 16, 25]\n"
     ]
    }
   ],
   "source": [
    "\"\"\"\" Page 14 | Advance Example : List Comprehensions \"\"\"\n",
    "\n",
    "# Example 2: List Comprehension to create a new list\n",
    "\n",
    "# Creating a list of sqaures of numbers from 1 to 5\n",
    "squares = [x **2 for x in range(1,6)]\n",
    "\n",
    "print(\"Squares:\",squares)  # Output: [1, 4, 9, 16, 25]"
   ]
  },
  {
   "cell_type": "code",
   "execution_count": 6,
   "metadata": {},
   "outputs": [
    {
     "name": "stdout",
     "output_type": "stream",
     "text": [
      "Sorted list: [5, 2, 8, 1, 3]\n",
      "Reversed list: [3, 1, 8, 2, 5]\n"
     ]
    }
   ],
   "source": [
    "\"\"\"\" Page 15 | Advance Example : Sorting and Reversing Lists \"\"\"\n",
    "\n",
    "# Example 3: Sorting and reversing a list\n",
    "\n",
    "numbers = [5, 2, 8, 1, 3]\n",
    "\n",
    "# Sorting the list\n",
    "numbers.sort\n",
    "print(\"Sorted list:\",numbers)  # Output [1, 2, 3, 5, 8]\n",
    "\n",
    "# Reversing the list\n",
    "numbers.reverse()\n",
    "print(\"Reversed list:\", numbers)  # Output [8, 5, 3, 2, 1]\n"
   ]
  },
  {
   "cell_type": "code",
   "execution_count": 7,
   "metadata": {},
   "outputs": [
    {
     "name": "stdout",
     "output_type": "stream",
     "text": [
      "2\n"
     ]
    }
   ],
   "source": [
    "\"\"\"  Page 16 | Advance Example : Nested Lists \"\"\"\n",
    "\n",
    "# Example 4: Nested lists\n",
    "\n",
    "# matrix start begin row = 0 and colume = 0\n",
    "matrix = [\n",
    "    [1,2,3],\n",
    "    [4,5,6],\n",
    "    [7,8,9]\n",
    "]\n",
    "\n",
    "# Acessing elements in the matrix \n",
    "rows = int(input(\"Enter row:\"))\n",
    "colume = int(input(\"Enter Colume:\"))\n",
    "print(matrix[rows][colume]) \n"
   ]
  },
  {
   "cell_type": "code",
   "execution_count": 2,
   "metadata": {},
   "outputs": [
    {
     "name": "stdout",
     "output_type": "stream",
     "text": [
      "Peopped item from stack: 3\n",
      "Dequeued item from queue: 1\n"
     ]
    }
   ],
   "source": [
    "\"\"\" Page 18| Advace Example: List as Stacks and Queues \"\"\"\n",
    "\n",
    "# Example 6: Using lists as stacks and queues\n",
    "\n",
    "# Stack operations (Last In, Frist Out - LIFOd)\n",
    "stack = []\n",
    "stack.append(1)\n",
    "stack.append(2)\n",
    "stack.append(3)\n",
    "popped_item = stack.pop()\n",
    "print(\"Peopped item from stack:\", popped_item) # Output: Popped item from stack: 3\n",
    "\n",
    "# Queue operations (Frist In, Frist Out - FIFO)\n",
    "from collections import deque\n",
    "queue = deque([1, 2, 3])\n",
    "queue.append(4)\n",
    "dequeued_item = queue.popleft()\n",
    "print(\"Dequeued item from queue:\", dequeued_item)  # Output: Dequeued item from queue: 1"
   ]
  },
  {
   "cell_type": "code",
   "execution_count": 8,
   "metadata": {},
   "outputs": [
    {
     "name": "stdout",
     "output_type": "stream",
     "text": [
      "Numbers after removal [1, 2, 4, 5, 6, 7, 1]\n",
      "Sum of remaining numbers: 26\n",
      "Count number list: 2\n"
     ]
    }
   ],
   "source": [
    "\"\"\" Page 20| Practice Exercise \"\"\"\n",
    "\n",
    "# given a list numbers, remove all occurrences of a specific numbers and calculate the sum of remaining numbers.\n",
    "\n",
    "numbers = [1,2,3,4,5,3,6,7,3,1]\n",
    "remove_num = 3\n",
    "\n",
    "while remove_num in numbers:\n",
    "    numbers.remove(remove_num)\n",
    "    \n",
    "print(\"Numbers after removal\", numbers)\n",
    "print(\"Sum of remaining numbers:\", sum(numbers))\n",
    "print(\"Count number list:\", numbers.count(1))"
   ]
  }
 ],
 "metadata": {
  "kernelspec": {
   "display_name": "Python 3",
   "language": "python",
   "name": "python3"
  },
  "language_info": {
   "codemirror_mode": {
    "name": "ipython",
    "version": 3
   },
   "file_extension": ".py",
   "mimetype": "text/x-python",
   "name": "python",
   "nbconvert_exporter": "python",
   "pygments_lexer": "ipython3",
   "version": "3.11.9"
  }
 },
 "nbformat": 4,
 "nbformat_minor": 2
}
